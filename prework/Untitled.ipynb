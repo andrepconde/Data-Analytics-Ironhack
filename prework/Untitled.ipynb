{
 "cells": [
  {
   "cell_type": "code",
   "execution_count": 2,
   "id": "808a831c",
   "metadata": {},
   "outputs": [],
   "source": [
    "import math\n",
    " \n",
    "x = 2.123\n"
   ]
  },
  {
   "cell_type": "code",
   "execution_count": 3,
   "id": "ab34b4b3",
   "metadata": {},
   "outputs": [
    {
     "data": {
      "text/plain": [
       "3"
      ]
     },
     "execution_count": 3,
     "metadata": {},
     "output_type": "execute_result"
    }
   ],
   "source": [
    "math.ceil(x)\n"
   ]
  },
  {
   "cell_type": "code",
   "execution_count": 4,
   "id": "ed6394c9",
   "metadata": {},
   "outputs": [
    {
     "data": {
      "text/plain": [
       "24"
      ]
     },
     "execution_count": 4,
     "metadata": {},
     "output_type": "execute_result"
    }
   ],
   "source": [
    "math.factorial(4)  # This is equivalent to 4*3*2*1\n"
   ]
  },
  {
   "cell_type": "code",
   "execution_count": 6,
   "id": "b163ed4b",
   "metadata": {},
   "outputs": [
    {
     "data": {
      "text/plain": [
       "2.718281828459045"
      ]
     },
     "execution_count": 6,
     "metadata": {},
     "output_type": "execute_result"
    }
   ],
   "source": [
    "math.exp(1)  # Raises the argument in the power of exponent\n"
   ]
  },
  {
   "cell_type": "code",
   "execution_count": 7,
   "id": "f4e73fa0",
   "metadata": {},
   "outputs": [
    {
     "data": {
      "text/plain": [
       "2.302585092994046"
      ]
     },
     "execution_count": 7,
     "metadata": {},
     "output_type": "execute_result"
    }
   ],
   "source": [
    "math.log(10) # natural log - base `e`\n"
   ]
  },
  {
   "cell_type": "code",
   "execution_count": 8,
   "id": "b7089613",
   "metadata": {},
   "outputs": [
    {
     "data": {
      "text/plain": [
       "1.0"
      ]
     },
     "execution_count": 8,
     "metadata": {},
     "output_type": "execute_result"
    }
   ],
   "source": [
    "math.log10(10) # Log to the base of 10\n"
   ]
  },
  {
   "cell_type": "code",
   "execution_count": 9,
   "id": "77dad8f3",
   "metadata": {},
   "outputs": [
    {
     "data": {
      "text/plain": [
       "16.0"
      ]
     },
     "execution_count": 9,
     "metadata": {},
     "output_type": "execute_result"
    }
   ],
   "source": [
    "math.pow(2,4) # raises 2 to the power of 4"
   ]
  },
  {
   "cell_type": "code",
   "execution_count": null,
   "id": "0ca4b3d2",
   "metadata": {},
   "outputs": [],
   "source": []
  }
 ],
 "metadata": {
  "kernelspec": {
   "display_name": "Python 3 (ipykernel)",
   "language": "python",
   "name": "python3"
  },
  "language_info": {
   "codemirror_mode": {
    "name": "ipython",
    "version": 3
   },
   "file_extension": ".py",
   "mimetype": "text/x-python",
   "name": "python",
   "nbconvert_exporter": "python",
   "pygments_lexer": "ipython3",
   "version": "3.9.13"
  }
 },
 "nbformat": 4,
 "nbformat_minor": 5
}
